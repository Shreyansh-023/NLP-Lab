{
 "cells": [
  {
   "cell_type": "code",
   "execution_count": 2,
   "id": "7e663d23-3467-4798-8775-f31d2bd14781",
   "metadata": {},
   "outputs": [
    {
     "name": "stdout",
     "output_type": "stream",
     "text": [
      "Total words: 202793\n",
      "First 10 words: ['investigation', 'primary', 'election', 'evidence', 'irregularities', 'place', 'jury', 'presentments', 'charge', 'election']\n"
     ]
    }
   ],
   "source": [
    "import matplotlib.pyplot as plt\n",
    "from collections import defaultdict\n",
    "import numpy as np\n",
    "\n",
    "# Read the words from the file\n",
    "def read_words(filename):\n",
    "    with open(filename, 'r') as f:\n",
    "        words = [line.strip() for line in f.readlines()]\n",
    "    return words\n",
    "\n",
    "# Load the words\n",
    "words = read_words('brown_nouns.txt')\n",
    "print(f\"Total words: {len(words)}\")\n",
    "print(f\"First 10 words: {words[:10]}\")"
   ]
  },
  {
   "cell_type": "code",
   "execution_count": 3,
   "id": "4699f371-a63f-41e7-9e7b-792164cf571e",
   "metadata": {},
   "outputs": [],
   "source": [
    "class TrieNode:\n",
    "    def __init__(self):\n",
    "        self.children = defaultdict(TrieNode)\n",
    "        self.is_end = False\n",
    "        self.frequency = 0\n",
    "        self.depth = 0\n",
    "        \n",
    "    def __str__(self):\n",
    "        return f\"TrieNode(children={list(self.children.keys())}, is_end={self.is_end}, frequency={self.frequency})\""
   ]
  },
  {
   "cell_type": "code",
   "execution_count": 1,
   "id": "e93140c4-cf5c-4996-8ffa-e75511dfaf16",
   "metadata": {},
   "outputs": [],
   "source": [
    "class PrefixTrie:\n",
    "    def __init__(self):\n",
    "        self.root = TrieNode()\n",
    "        self.root.frequency = 0\n",
    "        \n",
    "    def insert(self, word):\n",
    "        node = self.root\n",
    "        for char in word:\n",
    "            node = node.children[char]\n",
    "            node.frequency += 1\n",
    "        node.is_end = True\n",
    "        \n",
    "    def search(self, word):\n",
    "        node = self.root\n",
    "        for char in word:\n",
    "            if char not in node.children:\n",
    "                return False\n",
    "            node = node.children[char]\n",
    "        return node.is_end\n",
    "    \n",
    "    def find_stem(self, word):\n",
    "        node = self.root\n",
    "        stem = []\n",
    "        max_branching_index = 0\n",
    "        max_branching_value = 0\n",
    "        \n",
    "        for i, char in enumerate(word):\n",
    "            if char not in node.children:\n",
    "                break\n",
    "                \n",
    "            node = node.children[char]\n",
    "            branching_factor = len(node.children)\n",
    "            \n",
    "            # Check if this node has higher branching\n",
    "            if branching_factor > max_branching_value:\n",
    "                max_branching_value = branching_factor\n",
    "                max_branching_index = i + 1  # index where we should split\n",
    "                \n",
    "            stem.append(char)\n",
    "            \n",
    "        # If we found a branching point, split there\n",
    "        if max_branching_index > 0:\n",
    "            stem = word[:max_branching_index]\n",
    "            suffix = word[max_branching_index:]\n",
    "        else:\n",
    "            stem = word\n",
    "            suffix = \"\"\n",
    "            \n",
    "        return stem, suffix"
   ]
  },
  {
   "cell_type": "code",
   "execution_count": 4,
   "id": "9f2b5d91-bc24-4468-886a-07d2d68ce7fd",
   "metadata": {},
   "outputs": [],
   "source": [
    "class SuffixTrie:\n",
    "    def __init__(self):\n",
    "        self.root = TrieNode()\n",
    "        self.root.frequency = 0\n",
    "        \n",
    "    def insert(self, word):\n",
    "        # Reverse the word for suffix trie\n",
    "        reversed_word = word[::-1]\n",
    "        node = self.root\n",
    "        for char in reversed_word:\n",
    "            node = node.children[char]\n",
    "            node.frequency += 1\n",
    "        node.is_end = True\n",
    "    \n",
    "    def find_stem(self, word):\n",
    "        # Reverse the word to process from the end\n",
    "        reversed_word = word[::-1]\n",
    "        node = self.root\n",
    "        suffix = []\n",
    "        max_branching_index = 0\n",
    "        max_branching_value = 0\n",
    "        \n",
    "        for i, char in enumerate(reversed_word):\n",
    "            if char not in node.children:\n",
    "                break\n",
    "                \n",
    "            node = node.children[char]\n",
    "            branching_factor = len(node.children)\n",
    "            \n",
    "            # Check if this node has higher branching\n",
    "            if branching_factor > max_branching_value:\n",
    "                max_branching_value = branching_factor\n",
    "                max_branching_index = i + 1  # index where we should split\n",
    "                \n",
    "            suffix.append(char)\n",
    "            \n",
    "        # If we found a branching point, split there\n",
    "        if max_branching_index > 0:\n",
    "            # The suffix is the part we've traversed (in reverse order)\n",
    "            suffix = ''.join(suffix[:max_branching_index])[::-1]\n",
    "            stem = word[:-max_branching_index]\n",
    "        else:\n",
    "            stem = word\n",
    "            suffix = \"\"\n",
    "            \n",
    "        return stem, suffix"
   ]
  },
  {
   "cell_type": "code",
   "execution_count": 5,
   "id": "d888c8c6-9c06-41bf-8beb-1a8eb020dff7",
   "metadata": {},
   "outputs": [
    {
     "name": "stdout",
     "output_type": "stream",
     "text": [
      "Prefix Trie Results:\n",
      "goes=g+oes\n",
      "kites=k+ites\n",
      "running=ru+nning\n",
      "happily=ha+ppily\n",
      "boxes=bo+xes\n",
      "children=c+hildren\n",
      "\n",
      "Suffix Trie Results:\n",
      "goes=goe+s\n",
      "kites=kite+s\n",
      "running=runn+ing\n",
      "happily=happil+y\n",
      "boxes=boxe+s\n",
      "children=childr+en\n"
     ]
    }
   ],
   "source": [
    "# Build prefix trie\n",
    "prefix_trie = PrefixTrie()\n",
    "for word in words:\n",
    "    prefix_trie.insert(word)\n",
    "\n",
    "# Build suffix trie\n",
    "suffix_trie = SuffixTrie()\n",
    "for word in words:\n",
    "    suffix_trie.insert(word)\n",
    "\n",
    "# Test on some examples\n",
    "test_words = ['goes', 'kites', 'running', 'happily', 'boxes', 'children']\n",
    "print(\"Prefix Trie Results:\")\n",
    "for word in test_words:\n",
    "    stem, suffix = prefix_trie.find_stem(word)\n",
    "    print(f\"{word}={stem}+{suffix}\")\n",
    "\n",
    "print(\"\\nSuffix Trie Results:\")\n",
    "for word in test_words:\n",
    "    stem, suffix = suffix_trie.find_stem(word)\n",
    "    print(f\"{word}={stem}+{suffix}\")"
   ]
  },
  {
   "cell_type": "code",
   "execution_count": 6,
   "id": "4c63d2e1-1a0b-4a6b-8712-fd4ac7954410",
   "metadata": {},
   "outputs": [
    {
     "name": "stdout",
     "output_type": "stream",
     "text": [
      "Same stemming result: 3.68%\n",
      "Average prefix stem length: 1.59\n",
      "Average suffix stem length: 5.29\n"
     ]
    },
    {
     "data": {
      "image/png": "[encoded data removed]",
      "text/plain": [
       "<Figure size 1000x500 with 1 Axes>"
      ]
     },
     "metadata": {},
     "output_type": "display_data"
    }
   ],
   "source": [
    "def evaluate_trie(trie, words, trie_type=\"prefix\"):\n",
    "    results = []\n",
    "    for word in words:\n",
    "        if trie_type == \"prefix\":\n",
    "            stem, suffix = trie.find_stem(word)\n",
    "        else:\n",
    "            stem, suffix = trie.find_stem(word)\n",
    "        results.append((word, stem, suffix))\n",
    "    return results\n",
    "\n",
    "# Evaluate both tries\n",
    "prefix_results = evaluate_trie(prefix_trie, words, \"prefix\")\n",
    "suffix_results = evaluate_trie(suffix_trie, words, \"suffix\")\n",
    "\n",
    "# Compare the results\n",
    "def analyze_results(prefix_results, suffix_results):\n",
    "    prefix_stem_lengths = []\n",
    "    suffix_stem_lengths = []\n",
    "    same_result = 0\n",
    "    \n",
    "    for i, (word, p_stem, p_suffix) in enumerate(prefix_results):\n",
    "        s_stem, s_suffix = suffix_results[i][1], suffix_results[i][2]\n",
    "        prefix_stem_lengths.append(len(p_stem))\n",
    "        suffix_stem_lengths.append(len(s_stem))\n",
    "        \n",
    "        if p_stem == s_stem and p_suffix == s_suffix:\n",
    "            same_result += 1\n",
    "    \n",
    "    print(f\"Same stemming result: {same_result/len(prefix_results)*100:.2f}%\")\n",
    "    print(f\"Average prefix stem length: {np.mean(prefix_stem_lengths):.2f}\")\n",
    "    print(f\"Average suffix stem length: {np.mean(suffix_stem_lengths):.2f}\")\n",
    "    \n",
    "    # Plot the distribution of stem lengths\n",
    "    plt.figure(figsize=(10, 5))\n",
    "    plt.hist(prefix_stem_lengths, alpha=0.5, label='Prefix Trie')\n",
    "    plt.hist(suffix_stem_lengths, alpha=0.5, label='Suffix Trie')\n",
    "    plt.xlabel('Stem Length')\n",
    "    plt.ylabel('Frequency')\n",
    "    plt.title('Distribution of Stem Lengths')\n",
    "    plt.legend()\n",
    "    plt.show()\n",
    "\n",
    "analyze_results(prefix_results, suffix_results)"
   ]
  },
  {
   "cell_type": "code",
   "execution_count": 7,
   "id": "34c43dd8-76e3-4efe-abf6-e343b63a9e2f",
   "metadata": {},
   "outputs": [
    {
     "name": "stdout",
     "output_type": "stream",
     "text": [
      "Examples where prefix and suffix tries differ:\n",
      "Word: investigation\n",
      "  Prefix: in + vestigation\n",
      "  Suffix: investigati + on\n",
      "\n",
      "Word: primary\n",
      "  Prefix: p + rimary\n",
      "  Suffix: primar + y\n",
      "\n",
      "Word: election\n",
      "  Prefix: e + lection\n",
      "  Suffix: electi + on\n",
      "\n",
      "Word: evidence\n",
      "  Prefix: e + vidence\n",
      "  Suffix: evidenc + e\n",
      "\n",
      "Word: irregularities\n",
      "  Prefix: i + rregularities\n",
      "  Suffix: irregularitie + s\n",
      "\n",
      "Word: place\n",
      "  Prefix: p + lace\n",
      "  Suffix: plac + e\n",
      "\n",
      "Word: jury\n",
      "  Prefix: ju + ry\n",
      "  Suffix: jur + y\n",
      "\n",
      "Word: presentments\n",
      "  Prefix: p + resentments\n",
      "  Suffix: presentment + s\n",
      "\n",
      "Word: charge\n",
      "  Prefix: c + harge\n",
      "  Suffix: charg + e\n",
      "\n",
      "Word: election\n",
      "  Prefix: e + lection\n",
      "  Suffix: electi + on\n",
      "\n"
     ]
    }
   ],
   "source": [
    "# Show some examples of differences\n",
    "print(\"Examples where prefix and suffix tries differ:\")\n",
    "count = 0\n",
    "for i, (word, p_stem, p_suffix) in enumerate(prefix_results):\n",
    "    s_stem, s_suffix = suffix_results[i][1], suffix_results[i][2]\n",
    "    if p_stem != s_stem or p_suffix != s_suffix:\n",
    "        print(f\"Word: {word}\")\n",
    "        print(f\"  Prefix: {p_stem} + {p_suffix}\")\n",
    "        print(f\"  Suffix: {s_stem} + {s_suffix}\")\n",
    "        print()\n",
    "        count += 1\n",
    "    if count >= 10:  # Show only 10 examples\n",
    "        break"
   ]
  },
  {
   "cell_type": "code",
   "execution_count": 8,
   "id": "6df5667e-a4a5-4150-a545-c6f81ac03a28",
   "metadata": {},
   "outputs": [
    {
     "name": "stdout",
     "output_type": "stream",
     "text": [
      "Results saved to stemming_results.txt\n"
     ]
    }
   ],
   "source": [
    "# Save the results to a file\n",
    "with open('stemming_results.txt', 'w') as f:\n",
    "    f.write(\"Word,Prefix_Stem,Prefix_Suffix,Suffix_Stem,Suffix_Suffix\\n\")\n",
    "    for i, (word, p_stem, p_suffix) in enumerate(prefix_results):\n",
    "        s_stem, s_suffix = suffix_results[i][1], suffix_results[i][2]\n",
    "        f.write(f\"{word},{p_stem},{p_suffix},{s_stem},{s_suffix}\\n\")\n",
    "\n",
    "print(\"Results saved to stemming_results.txt\")"
   ]
  },
  {
   "cell_type": "code",
   "execution_count": null,
   "id": "1b46e9ae-986f-40d5-9252-0873514d330e",
   "metadata": {},
   "outputs": [],
   "source": []
  }
 ],
 "metadata": {
  "kernelspec": {
   "display_name": "Python [conda env:base] *",
   "language": "python",
   "name": "conda-base-py"
  },
  "language_info": {
   "codemirror_mode": {
    "name": "ipython",
    "version": 3
   },
   "file_extension": ".py",
   "mimetype": "text/x-python",
   "name": "python",
   "nbconvert_exporter": "python",
   "pygments_lexer": "ipython3",
   "version": "3.12.7"
  }
 },
 "nbformat": 4,
 "nbformat_minor": 5
}
