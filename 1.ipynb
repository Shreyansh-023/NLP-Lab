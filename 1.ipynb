{
 "cells": [
  {
   "cell_type": "code",
   "execution_count": null,
   "id": "1d324233-01dc-4819-9d66-20992a4ea19e",
   "metadata": {},
   "outputs": [],
   "source": [
    "import re\n",
    "from datasets import load_dataset"
   ]
  },
  {
   "cell_type": "code",
   "execution_count": 1,
   "id": "200fc34a-a300-40a0-9439-8e5c99425b9a",
   "metadata": {},
   "outputs": [
    {
     "name": "stdout",
     "output_type": "stream",
     "text": [
      "{'text': 'लोगों को बिलों संबंधी सुविधा देना ही उनका काम'}\n",
      "{'text': ''}\n",
      "{'text': 'इनेलो 1987 में उस वक्त ऐसे ही दोराहे पर खड़ी थी, जब पूर्व उपप्रधानमंत्री देवीलाल ने अपने पुत्र ओमप्रकाश चौटाला को अपना राजनीतिक उत्तराधिकारी घोषित किया था। हालांकि तब पार्टी पर देवीलाल की मजबूत पकड़ के चलते पार्टी टूटने से बच गई थी। 1989 में देवीलाल केन्द्र की राजनीति में सक्रिय हो गए थे और उनके उपप्रधानमंत्री बनने के पश्चात् उनके तीन बेटों जगदीश सिंह, रणजीत सिंह और ओमप्रकाश चौटाला में से रणजीत और ओमप्रकाश के बीच हरियाणा में उनकी राजनीतिक विरासत को लेकर जंग शुरू हो गई थी। उन परिस्थितियों में देवीलाल ने कड़ा निर्णय लेते हुए पार्टी की बागडोर ओमप्रकाश चौटाला के हवाले कर दी थी, जिसके बाद रणजीत की बगावत का असर पार्टी, संगठन और उनकी सरकार पर भी पड़ा था। उस समय रणजीत की नाराजगी के चलते उनके समर्थन में कई कैबिनेट मंत्रियों ने इस्तीफे दे दिए थे किन्तु तब पार्टी सुप्रीमो चौ. देवीलाल की हरियाणा की जनता पर इतनी मजबूत पकड़ थी कि ओमप्रकाश चौटाला को उत्तराधिकारी बनाने के उनके फैसले का जनता के बीच कोई खास विरोध नहीं हुआ था लेकिन आज स्थिति बिल्कुल विपरीत है। ओमप्रकाश चौटाला पिछले काफी समय से जेल में हैं और जेल में रहते पार्टी के साथ-साथ परिवार पर भी उनकी पकड़ काफी ढ़ीली हो गई है, इसी कारण उनमें अब देवीलाल जैसा वो सामर्थ्य नजर नहीं आता कि वे अपने फैसलों को बगैर किसी प्रतिरोध के लागू करा सकें।'}\n",
      "{'text': ''}\n",
      "{'text': 'जहां आई थी तबाही उस घाटी क्षेत्र में खतरा ज्यादा'}\n",
      "{'text': ''}\n"
     ]
    }
   ],
   "source": [
    "dataset = load_dataset(\"ai4bharat/IndicCorpV2\", \"indiccorp_v2\", split=\"hin_Deva\", streaming=True)\n",
    "\n",
    "for i, example in enumerate(dataset):\n",
    "    print(example)\n",
    "    if i == 5:\n",
    "        break\n"
   ]
  },
  {
   "cell_type": "code",
   "execution_count": null,
   "id": "edc8446e-ff0f-4f4f-b814-172b616265f6",
   "metadata": {},
   "outputs": [],
   "source": []
  },
  {
   "cell_type": "code",
   "execution_count": 2,
   "id": "4b2163d0-1216-41da-a7fb-878d9d20ea94",
   "metadata": {},
   "outputs": [],
   "source": [
    "data = []\n",
    "for i, example in enumerate(dataset):\n",
    "    # because there were alternate empyt rows in loaded dataset\n",
    "    if(i%2==1):\n",
    "        continue\n",
    "    data.append(example[\"text\"])\n",
    "    if i >= 20:\n",
    "        break"
   ]
  },
  {
   "cell_type": "code",
   "execution_count": 69,
   "id": "384636f9-4c4d-44d3-b7f5-a4cce6c4e069",
   "metadata": {},
   "outputs": [
    {
     "data": {
      "text/plain": [
       "231"
      ]
     },
     "execution_count": 69,
     "metadata": {},
     "output_type": "execute_result"
    }
   ],
   "source": [
    "len(data[1].split(\" \"))"
   ]
  },
  {
   "cell_type": "code",
   "execution_count": 16,
   "id": "c02d4ae9-27a1-4678-9de1-793854092a26",
   "metadata": {},
   "outputs": [],
   "source": [
    "def sentence_tokenizer(data):\n",
    "    sentences = []\n",
    "    for d in data:\n",
    "        sentences.extend(re.split(r\"(?<=[.।?])\\s+\",d))\n",
    "    return sentences"
   ]
  },
  {
   "cell_type": "code",
   "execution_count": 62,
   "id": "cb201ea9-eca2-4ba1-af1e-248b52b065d4",
   "metadata": {},
   "outputs": [],
   "source": [
    "def sentence_count(data):\n",
    "    cnt = 0\n",
    "    for d in data:\n",
    "        cnt += len(re.split(r\"(?<=[.।?])\\s+\",d))\n",
    "\n",
    "    return cnt\n"
   ]
  },
  {
   "cell_type": "code",
   "execution_count": 63,
   "id": "948c4170-1bba-4b41-852f-e3e8d6bfb6b5",
   "metadata": {},
   "outputs": [
    {
     "data": {
      "text/plain": [
       "29"
      ]
     },
     "execution_count": 63,
     "metadata": {},
     "output_type": "execute_result"
    }
   ],
   "source": [
    "sentence_count(data)"
   ]
  },
  {
   "cell_type": "code",
   "execution_count": 17,
   "id": "1f9614e7-1806-4210-9720-a5f56d9d32e9",
   "metadata": {},
   "outputs": [
    {
     "name": "stdout",
     "output_type": "stream",
     "text": [
      "['लोगों को बिलों संबंधी सुविधा देना ही उनका काम', 'इनेलो 1987 में उस वक्त ऐसे ही दोराहे पर खड़ी थी, जब पूर्व उपप्रधानमंत्री देवीलाल ने अपने पुत्र ओमप्रकाश चौटाला को अपना राजनीतिक उत्तराधिकारी घोषित किया था।', 'हालांकि तब पार्टी पर देवीलाल की मजबूत पकड़ के चलते पार्टी टूटने से बच गई थी।', '1989 में देवीलाल केन्द्र की राजनीति में सक्रिय हो गए थे और उनके उपप्रधानमंत्री बनने के पश्चात् उनके तीन बेटों जगदीश सिंह, रणजीत सिंह और ओमप्रकाश चौटाला में से रणजीत और ओमप्रकाश के बीच हरियाणा में उनकी राजनीतिक विरासत को लेकर जंग शुरू हो गई थी।', 'उन परिस्थितियों में देवीलाल ने कड़ा निर्णय लेते हुए पार्टी की बागडोर ओमप्रकाश चौटाला के हवाले कर दी थी, जिसके बाद रणजीत की बगावत का असर पार्टी, संगठन और उनकी सरकार पर भी पड़ा था।', 'उस समय रणजीत की नाराजगी के चलते उनके समर्थन में कई कैबिनेट मंत्रियों ने इस्तीफे दे दिए थे किन्तु तब पार्टी सुप्रीमो चौ.', 'देवीलाल की हरियाणा की जनता पर इतनी मजबूत पकड़ थी कि ओमप्रकाश चौटाला को उत्तराधिकारी बनाने के उनके फैसले का जनता के बीच कोई खास विरोध नहीं हुआ था लेकिन आज स्थिति बिल्कुल विपरीत है।', 'ओमप्रकाश चौटाला पिछले काफी समय से जेल में हैं और जेल में रहते पार्टी के साथ-साथ परिवार पर भी उनकी पकड़ काफी ढ़ीली हो गई है, इसी कारण उनमें अब देवीलाल जैसा वो सामर्थ्य नजर नहीं आता कि वे अपने फैसलों को बगैर किसी प्रतिरोध के लागू करा सकें।', 'जहां आई थी तबाही उस घाटी क्षेत्र में खतरा ज्यादा', 'इसके बाद केंद्र की ओर से प्रदेश सरकार को पीएमजीएसवाई में 200 करोड़ रुपये की राशि उपलब्ध करा दी गई।', 'भाजपा के मीडिया प्रभारी दिवाकर सिंह ने शनिवार को बताया कि केंद्र ने प्रदेश सरकार को 200 करोड़ रुपये भेजा है।', 'यह पूछने पर कि इस बड़े मैच से पहले उनकी नींद गायब हुई तो बाबर ने कहा, \"हम काफी टूर्नामेंट खेल चुके हैं, हमने चैम्पियंस ट्राफी में भी अच्छा किया था.', 'हम इसे जितना सरल रखेंगे, उतना ही बेहतर होगा.', 'इसमें सिर्फ बेसिक्स पर अडिग रहना होगा और साथ ही शांत चित्त बने रहना होगा.', 'हमारी तैयारी हमारे हाथों में हैं और हमने अपना शत प्रतिशत दिया है.', 'हमें मैच के दिन अच्छी क्रिकेट खेलने की उम्मीद है.\"', \"समाचार एजेंसी 'डीपीए' के अनुसार, उप गृह मंत्री पैट्रीकियो रोसेंडे ने कहा कि 76 लोगों के मरने की पुष्टि हो चुकी है।\", 'पिछले कई सालों से हमने इतना बड़ा हादसा नहीं देखा।', 'प्रियंका माहेश्वरी ने किया है एमबीए', 'बुधवार सुबह 10.30 बजे बड़ी संख्या में एबीवीपी के छात्र नेता कॉलेज के छात्रों को लेकर कलेक्टोरेट पहुंचे और जमकर नारेबाजी करने लगे।', 'छात्र कलेक्टर से बात करने के लिए अड़े रहे, लेकिन कलेक्टर ने चेंबर में प्रतिनिधि मंडल से मुलाकात कर चर्चा करने की बात कही।', 'इस बात से छात्र भड़क गए और जिला प्रशासन मुर्दाबाद के नारे लगाने लगे।', 'मौके पर पहुंचे एसडीएम ने छात्रों को समझाने की कोशिश की, लेकिन छात्र मानने को तैयार नहीं थे।', 'करीब दो घंटे तक कलेक्टोरेट के गेट पर धरने पर बैठे छात्रों ने आखिरकार प्रतिनिधिमंडल के रूप में जाकर कलेक्टर धनंजय देवांगन से मिलकर अपनी समस्याओं से अवगत कराया।', 'बता दें कि ये फोटो ड्रग्स पैडलर द्वारा सैंपल के तौर पर बॉलीवुड के सेलिब्रिटीज और सोशलाइट्स को मोबाइल पर भेजे जाते थे, ताकि क्वालिटी का सबूत दिया जा सके.', 'विक्टोरिया: प्रधानमंत्री नरेंद्र मोदी ने आज कहा कि सेशेल्स जैसे द्वीप देशों के लिए जलवायु परिवर्तन उतना ही गंभीर खतरा है जितना कि दुनिया के सामने आतंकवाद का है.', 'इसके साथ ही उन्होंने जलवायु परिवर्तन का मुकाबला करने के लिए भारत की गहरी प्रतिबद्धता व्यक्त की है.', 'चीनी रक्षा मंत्रालय ने एक बयान जारी करके इसकी जानकारी दी।', 'अमेरिकी सर्वे शिप द्वारा दक्षिण चीन सागर में संचालित यह ड्रोन चीनी नेवी ने जब्त कर लिया था और कथित तौर पर उसे लौटाने से भी इंकार कर दिया था।']\n"
     ]
    }
   ],
   "source": [
    "sent = sentence_tokenizer(data)\n",
    "print(sent)"
   ]
  },
  {
   "cell_type": "code",
   "execution_count": 46,
   "id": "3b5128c2-fb00-4c99-ac3f-44e9b1ded73f",
   "metadata": {},
   "outputs": [],
   "source": [
    "\n",
    "def word_tokenizer(data):\n",
    "    words = []\n",
    "\n",
    "    # Define patterns\n",
    "    email_pattern = r'[a-zA-Z0-9._%+-]+@[a-zA-Z0-9.-]+\\.[a-zA-Z]{2,}'\n",
    "    url_pattern = r'https?://[^\\s]+|www\\.[^\\s]+'\n",
    "    time_pattern = r'\\d{1,2}\\.\\d{2}'  # 10.30\n",
    "    number_pattern = r'[\\d\\u0966-\\u096F]+'\n",
    "\n",
    "    # Hindi and English words\n",
    "    word_pattern = r'[\\u0900-\\u097F]+|[a-zA-Z]+'\n",
    "    \n",
    "    # Hindi + English punctuation, including danda (।)\n",
    "    punc_pattern = r'[।.,!?;:()\\'\"“”‘’—–\\-]'\n",
    "\n",
    "    \n",
    "    # Combine with priority: time first, then emails/URLs\n",
    "    combined_pattern = f'{punc_pattern}|{time_pattern}|{email_pattern}|{url_pattern}|{word_pattern}|{number_pattern}'\n",
    "\n",
    "    for sentence in data:\n",
    "        tokens = re.findall(combined_pattern, sentence)\n",
    "        words.extend(tokens)\n",
    "\n",
    "    return words\n"
   ]
  },
  {
   "cell_type": "code",
   "execution_count": 72,
   "id": "eed641e2-e304-488c-9ef3-2fd96c9fc3b4",
   "metadata": {},
   "outputs": [],
   "source": [
    "\n",
    "def word_count(data):\n",
    "    cnt = 0\n",
    "\n",
    "    # Define patterns\n",
    "    email_pattern = r'[a-zA-Z0-9._%+-]+@[a-zA-Z0-9.-]+\\.[a-zA-Z]{2,}'\n",
    "    url_pattern = r'https?://[^\\s]+|www\\.[^\\s]+'\n",
    "    time_pattern = r'\\d{1,2}\\.\\d{2}'  # 10.30\n",
    "    number_pattern = r'[\\d\\u0966-\\u096F]+'\n",
    "\n",
    "    # Hindi and English words\n",
    "    word_pattern = r'[\\u0900-\\u097F]+|[a-zA-Z]+'\n",
    "    \n",
    "    # Hindi + English punctuation, including danda (।)\n",
    "    punc_pattern = r'[।.,!?;:()\\'\"“”‘’—–\\-]'\n",
    "\n",
    "    \n",
    "    # Combine with priority: time first, then emails/URLs\n",
    "    combined_pattern = f'{punc_pattern}|{time_pattern}|{email_pattern}|{url_pattern}|{word_pattern}|{number_pattern}'\n",
    "\n",
    "    for sentence in data:\n",
    "        tokens = re.findall(combined_pattern, sentence)\n",
    "        cnt += len(tokens)\n",
    "\n",
    "    return cnt\n"
   ]
  },
  {
   "cell_type": "code",
   "execution_count": 73,
   "id": "a9262ae7-1ee4-49bf-b5fb-70cc054d9508",
   "metadata": {},
   "outputs": [
    {
     "data": {
      "text/plain": [
       "661"
      ]
     },
     "execution_count": 73,
     "metadata": {},
     "output_type": "execute_result"
    }
   ],
   "source": [
    "word_count(data)"
   ]
  },
  {
   "cell_type": "code",
   "execution_count": 74,
   "id": "d7f20fa8-7c5c-429c-ac3c-05d57ded14a4",
   "metadata": {},
   "outputs": [],
   "source": [
    "\n",
    "def character_count(data):\n",
    "    cnt = 0\n",
    "\n",
    "    # Define patterns\n",
    "    email_pattern = r'[a-zA-Z0-9._%+-]+@[a-zA-Z0-9.-]+\\.[a-zA-Z]{2,}'\n",
    "    url_pattern = r'https?://[^\\s]+|www\\.[^\\s]+'\n",
    "    time_pattern = r'\\d{1,2}\\.\\d{2}'  # 10.30\n",
    "    number_pattern = r'[\\d\\u0966-\\u096F]+'\n",
    "\n",
    "    # Hindi and English words\n",
    "    word_pattern = r'[\\u0900-\\u097F]+|[a-zA-Z]+'\n",
    "    \n",
    "    # Hindi + English punctuation, including danda (।)\n",
    "    punc_pattern = r'[।.,!?;:()\\'\"“”‘’—–\\-]'\n",
    "\n",
    "    \n",
    "    # Combine with priority: time first, then emails/URLs\n",
    "    combined_pattern = f'{punc_pattern}|{time_pattern}|{email_pattern}|{url_pattern}|{word_pattern}|{number_pattern}'\n",
    "\n",
    "    for sentence in data:\n",
    "        tokens = re.findall(combined_pattern, sentence)\n",
    "        for char in tokens:\n",
    "            cnt += len(char)\n",
    "\n",
    "    return cnt\n"
   ]
  },
  {
   "cell_type": "code",
   "execution_count": 61,
   "id": "334819cf-e0c0-4b64-8e42-a3c52eab7a84",
   "metadata": {},
   "outputs": [
    {
     "data": {
      "text/plain": [
       "2630"
      ]
     },
     "execution_count": 61,
     "metadata": {},
     "output_type": "execute_result"
    }
   ],
   "source": [
    "character_count(data)"
   ]
  },
  {
   "cell_type": "code",
   "execution_count": 64,
   "id": "10fd2cb0-12e3-4125-bcf4-dd7390099648",
   "metadata": {},
   "outputs": [],
   "source": [
    "def avg_sentence_len(data):\n",
    "    return word_count(data)/sentence_count(data)"
   ]
  },
  {
   "cell_type": "code",
   "execution_count": 65,
   "id": "9c5cfe98-7bcd-4ea7-a357-2b16b3a3f135",
   "metadata": {},
   "outputs": [
    {
     "data": {
      "text/plain": [
       "90.6896551724138"
      ]
     },
     "execution_count": 65,
     "metadata": {},
     "output_type": "execute_result"
    }
   ],
   "source": [
    "avg_len_sentences(data)"
   ]
  },
  {
   "cell_type": "code",
   "execution_count": 75,
   "id": "fc67c9a6-5d31-43dd-868d-8ec0dfaaa3de",
   "metadata": {},
   "outputs": [],
   "source": [
    "def avg_word_len(data):\n",
    "    return character_count(data)/word_count(data)"
   ]
  },
  {
   "cell_type": "code",
   "execution_count": 76,
   "id": "bd3e5b43-e65c-4d8f-9c8a-423fecb43d9e",
   "metadata": {},
   "outputs": [
    {
     "data": {
      "text/plain": [
       "3.9788199697428137"
      ]
     },
     "execution_count": 76,
     "metadata": {},
     "output_type": "execute_result"
    }
   ],
   "source": [
    "avg_word_len(data)"
   ]
  },
  {
   "cell_type": "code",
   "execution_count": 77,
   "id": "5d6b369e-e736-4cad-9a0c-d484c7082512",
   "metadata": {},
   "outputs": [],
   "source": [
    "def TTR_word(data):\n",
    "    uniquecnt = len(set(word_tokenizer(data)))\n",
    "\n",
    "    return uniquecnt/word_count(data)"
   ]
  },
  {
   "cell_type": "code",
   "execution_count": 78,
   "id": "19857e73-50db-4e3a-8652-23277f897d60",
   "metadata": {},
   "outputs": [
    {
     "data": {
      "text/plain": [
       "0.556732223903177"
      ]
     },
     "execution_count": 78,
     "metadata": {},
     "output_type": "execute_result"
    }
   ],
   "source": [
    "TTR_word(data)"
   ]
  },
  {
   "cell_type": "code",
   "execution_count": null,
   "id": "9dcfeeb1-d4ae-461b-9c53-32e8cd876877",
   "metadata": {},
   "outputs": [],
   "source": []
  }
 ],
 "metadata": {
  "kernelspec": {
   "display_name": "Python [conda env:base] *",
   "language": "python",
   "name": "conda-base-py"
  },
  "language_info": {
   "codemirror_mode": {
    "name": "ipython",
    "version": 3
   },
   "file_extension": ".py",
   "mimetype": "text/x-python",
   "name": "python",
   "nbconvert_exporter": "python",
   "pygments_lexer": "ipython3",
   "version": "3.12.7"
  }
 },
 "nbformat": 4,
 "nbformat_minor": 5
}
