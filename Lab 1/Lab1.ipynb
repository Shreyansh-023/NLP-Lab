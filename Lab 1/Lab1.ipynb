{
 "cells": [
  {
   "cell_type": "code",
   "execution_count": 3,
   "id": "1d324233-01dc-4819-9d66-20992a4ea19e",
   "metadata": {},
   "outputs": [],
   "source": [
    "import re\n",
    "from datasets import load_dataset"
   ]
  },
  {
   "cell_type": "code",
   "execution_count": 2,
   "id": "200fc34a-a300-40a0-9439-8e5c99425b9a",
   "metadata": {},
   "outputs": [
    {
     "name": "stdout",
     "output_type": "stream",
     "text": [
      "{'text': 'लोगों को बिलों संबंधी सुविधा देना ही उनका काम'}\n",
      "{'text': ''}\n",
      "{'text': 'इनेलो 1987 में उस वक्त ऐसे ही दोराहे पर खड़ी थी, जब पूर्व उपप्रधानमंत्री देवीलाल ने अपने पुत्र ओमप्रकाश चौटाला को अपना राजनीतिक उत्तराधिकारी घोषित किया था। हालांकि तब पार्टी पर देवीलाल की मजबूत पकड़ के चलते पार्टी टूटने से बच गई थी। 1989 में देवीलाल केन्द्र की राजनीति में सक्रिय हो गए थे और उनके उपप्रधानमंत्री बनने के पश्चात् उनके तीन बेटों जगदीश सिंह, रणजीत सिंह और ओमप्रकाश चौटाला में से रणजीत और ओमप्रकाश के बीच हरियाणा में उनकी राजनीतिक विरासत को लेकर जंग शुरू हो गई थी। उन परिस्थितियों में देवीलाल ने कड़ा निर्णय लेते हुए पार्टी की बागडोर ओमप्रकाश चौटाला के हवाले कर दी थी, जिसके बाद रणजीत की बगावत का असर पार्टी, संगठन और उनकी सरकार पर भी पड़ा था। उस समय रणजीत की नाराजगी के चलते उनके समर्थन में कई कैबिनेट मंत्रियों ने इस्तीफे दे दिए थे किन्तु तब पार्टी सुप्रीमो चौ. देवीलाल की हरियाणा की जनता पर इतनी मजबूत पकड़ थी कि ओमप्रकाश चौटाला को उत्तराधिकारी बनाने के उनके फैसले का जनता के बीच कोई खास विरोध नहीं हुआ था लेकिन आज स्थिति बिल्कुल विपरीत है। ओमप्रकाश चौटाला पिछले काफी समय से जेल में हैं और जेल में रहते पार्टी के साथ-साथ परिवार पर भी उनकी पकड़ काफी ढ़ीली हो गई है, इसी कारण उनमें अब देवीलाल जैसा वो सामर्थ्य नजर नहीं आता कि वे अपने फैसलों को बगैर किसी प्रतिरोध के लागू करा सकें।'}\n",
      "{'text': ''}\n",
      "{'text': 'जहां आई थी तबाही उस घाटी क्षेत्र में खतरा ज्यादा'}\n",
      "{'text': ''}\n"
     ]
    }
   ],
   "source": [
    "dataset = load_dataset(\"ai4bharat/IndicCorpV2\", \"indiccorp_v2\", split=\"hin_Deva\", streaming=True)\n",
    "\n",
    "for i, example in enumerate(dataset):\n",
    "    print(example)\n",
    "    if i == 5:\n",
    "        break\n"
   ]
  },
  {
   "cell_type": "code",
   "execution_count": null,
   "id": "edc8446e-ff0f-4f4f-b814-172b616265f6",
   "metadata": {},
   "outputs": [],
   "source": []
  },
  {
   "cell_type": "code",
   "execution_count": 3,
   "id": "4b2163d0-1216-41da-a7fb-878d9d20ea94",
   "metadata": {},
   "outputs": [],
   "source": [
    "data = []\n",
    "for i, example in enumerate(dataset):\n",
    "    # because there were alternate empyt rows in loaded dataset\n",
    "    if(i%2==1):\n",
    "        continue\n",
    "    data.append(example[\"text\"])\n",
    "    if i >= 20:\n",
    "        break"
   ]
  },
  {
   "cell_type": "code",
   "execution_count": 4,
   "id": "384636f9-4c4d-44d3-b7f5-a4cce6c4e069",
   "metadata": {},
   "outputs": [
    {
     "data": {
      "text/plain": [
       "231"
      ]
     },
     "execution_count": 4,
     "metadata": {},
     "output_type": "execute_result"
    }
   ],
   "source": [
    "len(data[1].split(\" \"))"
   ]
  },
  {
   "cell_type": "code",
   "execution_count": null,
   "id": "be1e6b50-85ad-4da4-bf5c-33df91a0ece6",
   "metadata": {},
   "outputs": [],
   "source": []
  },
  {
   "cell_type": "code",
   "execution_count": 16,
   "id": "c02d4ae9-27a1-4678-9de1-793854092a26",
   "metadata": {},
   "outputs": [],
   "source": [
    "def sentence_tokenizer(data):\n",
    "    sentences = []\n",
    "    for d in data:\n",
    "        sentences.extend(re.split(r\"(?<=[.।?])\\s+\",d))\n",
    "    return sentences"
   ]
  },
  {
   "cell_type": "code",
   "execution_count": 62,
   "id": "cb201ea9-eca2-4ba1-af1e-248b52b065d4",
   "metadata": {},
   "outputs": [],
   "source": [
    "def sentence_count(data):\n",
    "    cnt = 0\n",
    "    for d in data:\n",
    "        cnt += len(re.split(r\"(?<=[.।?])\\s+\",d))\n",
    "\n",
    "    return cnt\n"
   ]
  },
  {
   "cell_type": "code",
   "execution_count": 63,
   "id": "948c4170-1bba-4b41-852f-e3e8d6bfb6b5",
   "metadata": {},
   "outputs": [
    {
     "data": {
      "text/plain": [
       "29"
      ]
     },
     "execution_count": 63,
     "metadata": {},
     "output_type": "execute_result"
    }
   ],
   "source": [
    "sentence_count(data)"
   ]
  },
  {
   "cell_type": "code",
   "execution_count": 17,
   "id": "1f9614e7-1806-4210-9720-a5f56d9d32e9",
   "metadata": {},
   "outputs": [
    {
     "name": "stdout",
     "output_type": "stream",
     "text": [
      "['लोगों को बिलों संबंधी सुविधा देना ही उनका काम', 'इनेलो 1987 में उस वक्त ऐसे ही दोराहे पर खड़ी थी, जब पूर्व उपप्रधानमंत्री देवीलाल ने अपने पुत्र ओमप्रकाश चौटाला को अपना राजनीतिक उत्तराधिकारी घोषित किया था।', 'हालांकि तब पार्टी पर देवीलाल की मजबूत पकड़ के चलते पार्टी टूटने से बच गई थी।', '1989 में देवीलाल केन्द्र की राजनीति में सक्रिय हो गए थे और उनके उपप्रधानमंत्री बनने के पश्चात् उनके तीन बेटों जगदीश सिंह, रणजीत सिंह और ओमप्रकाश चौटाला में से रणजीत और ओमप्रकाश के बीच हरियाणा में उनकी राजनीतिक विरासत को लेकर जंग शुरू हो गई थी।', 'उन परिस्थितियों में देवीलाल ने कड़ा निर्णय लेते हुए पार्टी की बागडोर ओमप्रकाश चौटाला के हवाले कर दी थी, जिसके बाद रणजीत की बगावत का असर पार्टी, संगठन और उनकी सरकार पर भी पड़ा था।', 'उस समय रणजीत की नाराजगी के चलते उनके समर्थन में कई कैबिनेट मंत्रियों ने इस्तीफे दे दिए थे किन्तु तब पार्टी सुप्रीमो चौ.', 'देवीलाल की हरियाणा की जनता पर इतनी मजबूत पकड़ थी कि ओमप्रकाश चौटाला को उत्तराधिकारी बनाने के उनके फैसले का जनता के बीच कोई खास विरोध नहीं हुआ था लेकिन आज स्थिति बिल्कुल विपरीत है।', 'ओमप्रकाश चौटाला पिछले काफी समय से जेल में हैं और जेल में रहते पार्टी के साथ-साथ परिवार पर भी उनकी पकड़ काफी ढ़ीली हो गई है, इसी कारण उनमें अब देवीलाल जैसा वो सामर्थ्य नजर नहीं आता कि वे अपने फैसलों को बगैर किसी प्रतिरोध के लागू करा सकें।', 'जहां आई थी तबाही उस घाटी क्षेत्र में खतरा ज्यादा', 'इसके बाद केंद्र की ओर से प्रदेश सरकार को पीएमजीएसवाई में 200 करोड़ रुपये की राशि उपलब्ध करा दी गई।', 'भाजपा के मीडिया प्रभारी दिवाकर सिंह ने शनिवार को बताया कि केंद्र ने प्रदेश सरकार को 200 करोड़ रुपये भेजा है।', 'यह पूछने पर कि इस बड़े मैच से पहले उनकी नींद गायब हुई तो बाबर ने कहा, \"हम काफी टूर्नामेंट खेल चुके हैं, हमने चैम्पियंस ट्राफी में भी अच्छा किया था.', 'हम इसे जितना सरल रखेंगे, उतना ही बेहतर होगा.', 'इसमें सिर्फ बेसिक्स पर अडिग रहना होगा और साथ ही शांत चित्त बने रहना होगा.', 'हमारी तैयारी हमारे हाथों में हैं और हमने अपना शत प्रतिशत दिया है.', 'हमें मैच के दिन अच्छी क्रिकेट खेलने की उम्मीद है.\"', \"समाचार एजेंसी 'डीपीए' के अनुसार, उप गृह मंत्री पैट्रीकियो रोसेंडे ने कहा कि 76 लोगों के मरने की पुष्टि हो चुकी है।\", 'पिछले कई सालों से हमने इतना बड़ा हादसा नहीं देखा।', 'प्रियंका माहेश्वरी ने किया है एमबीए', 'बुधवार सुबह 10.30 बजे बड़ी संख्या में एबीवीपी के छात्र नेता कॉलेज के छात्रों को लेकर कलेक्टोरेट पहुंचे और जमकर नारेबाजी करने लगे।', 'छात्र कलेक्टर से बात करने के लिए अड़े रहे, लेकिन कलेक्टर ने चेंबर में प्रतिनिधि मंडल से मुलाकात कर चर्चा करने की बात कही।', 'इस बात से छात्र भड़क गए और जिला प्रशासन मुर्दाबाद के नारे लगाने लगे।', 'मौके पर पहुंचे एसडीएम ने छात्रों को समझाने की कोशिश की, लेकिन छात्र मानने को तैयार नहीं थे।', 'करीब दो घंटे तक कलेक्टोरेट के गेट पर धरने पर बैठे छात्रों ने आखिरकार प्रतिनिधिमंडल के रूप में जाकर कलेक्टर धनंजय देवांगन से मिलकर अपनी समस्याओं से अवगत कराया।', 'बता दें कि ये फोटो ड्रग्स पैडलर द्वारा सैंपल के तौर पर बॉलीवुड के सेलिब्रिटीज और सोशलाइट्स को मोबाइल पर भेजे जाते थे, ताकि क्वालिटी का सबूत दिया जा सके.', 'विक्टोरिया: प्रधानमंत्री नरेंद्र मोदी ने आज कहा कि सेशेल्स जैसे द्वीप देशों के लिए जलवायु परिवर्तन उतना ही गंभीर खतरा है जितना कि दुनिया के सामने आतंकवाद का है.', 'इसके साथ ही उन्होंने जलवायु परिवर्तन का मुकाबला करने के लिए भारत की गहरी प्रतिबद्धता व्यक्त की है.', 'चीनी रक्षा मंत्रालय ने एक बयान जारी करके इसकी जानकारी दी।', 'अमेरिकी सर्वे शिप द्वारा दक्षिण चीन सागर में संचालित यह ड्रोन चीनी नेवी ने जब्त कर लिया था और कथित तौर पर उसे लौटाने से भी इंकार कर दिया था।']\n"
     ]
    }
   ],
   "source": [
    "sent = sentence_tokenizer(data)\n",
    "print(sent)"
   ]
  },
  {
   "cell_type": "code",
   "execution_count": 46,
   "id": "3b5128c2-fb00-4c99-ac3f-44e9b1ded73f",
   "metadata": {},
   "outputs": [],
   "source": [
    "\n",
    "def word_tokenizer(data):\n",
    "    words = []\n",
    "\n",
    "    # Define patterns\n",
    "    email_pattern = r'[a-zA-Z0-9._%+-]+@[a-zA-Z0-9.-]+\\.[a-zA-Z]{2,}'\n",
    "    url_pattern = r'https?://[^\\s]+|www\\.[^\\s]+'\n",
    "    time_pattern = r'\\d{1,2}\\.\\d{2}'  # 10.30\n",
    "    number_pattern = r'[\\d\\u0966-\\u096F]+'\n",
    "\n",
    "    # Hindi and English words\n",
    "    word_pattern = r'[\\u0900-\\u097F]+|[a-zA-Z]+'\n",
    "    \n",
    "    # Hindi + English punctuation, including danda (।)\n",
    "    punc_pattern = r'[।.,!?;:()\\'\"“”‘’—–\\-]'\n",
    "\n",
    "    \n",
    "    # Combine with priority: time first, then emails/URLs\n",
    "    combined_pattern = f'{punc_pattern}|{time_pattern}|{email_pattern}|{url_pattern}|{word_pattern}|{number_pattern}'\n",
    "\n",
    "    for sentence in data:\n",
    "        tokens = re.findall(combined_pattern, sentence)\n",
    "        words.extend(tokens)\n",
    "\n",
    "    return words\n"
   ]
  },
  {
   "cell_type": "code",
   "execution_count": 72,
   "id": "eed641e2-e304-488c-9ef3-2fd96c9fc3b4",
   "metadata": {},
   "outputs": [],
   "source": [
    "\n",
    "def word_count(data):\n",
    "    cnt = 0\n",
    "\n",
    "    # Define patterns\n",
    "    email_pattern = r'[a-zA-Z0-9._%+-]+@[a-zA-Z0-9.-]+\\.[a-zA-Z]{2,}'\n",
    "    url_pattern = r'https?://[^\\s]+|www\\.[^\\s]+'\n",
    "    time_pattern = r'\\d{1,2}\\.\\d{2}'  # 10.30\n",
    "    number_pattern = r'[\\d\\u0966-\\u096F]+'\n",
    "\n",
    "    # Hindi and English words\n",
    "    word_pattern = r'[\\u0900-\\u097F]+|[a-zA-Z]+'\n",
    "    \n",
    "    # Hindi + English punctuation, including danda (।)\n",
    "    punc_pattern = r'[।.,!?;:()\\'\"“”‘’—–\\-]'\n",
    "\n",
    "    \n",
    "    # Combine with priority: time first, then emails/URLs\n",
    "    combined_pattern = f'{punc_pattern}|{time_pattern}|{email_pattern}|{url_pattern}|{word_pattern}|{number_pattern}'\n",
    "\n",
    "    for sentence in data:\n",
    "        tokens = re.findall(combined_pattern, sentence)\n",
    "        cnt += len(tokens)\n",
    "\n",
    "    return cnt\n"
   ]
  },
  {
   "cell_type": "code",
   "execution_count": 73,
   "id": "a9262ae7-1ee4-49bf-b5fb-70cc054d9508",
   "metadata": {},
   "outputs": [
    {
     "data": {
      "text/plain": [
       "661"
      ]
     },
     "execution_count": 73,
     "metadata": {},
     "output_type": "execute_result"
    }
   ],
   "source": [
    "word_count(data)"
   ]
  },
  {
   "cell_type": "code",
   "execution_count": 4,
   "id": "d7f20fa8-7c5c-429c-ac3c-05d57ded14a4",
   "metadata": {},
   "outputs": [],
   "source": [
    "\n",
    "def character_count(data):\n",
    "    cnt = 0\n",
    "\n",
    "    # Define patterns\n",
    "    email_pattern = r'[a-zA-Z0-9._%+-]+@[a-zA-Z0-9.-]+\\.[a-zA-Z]{2,}'\n",
    "    url_pattern = r'https?://[^\\s]+|www\\.[^\\s]+'\n",
    "    time_pattern = r'\\d{1,2}\\.\\d{2}'  # 10.30\n",
    "    number_pattern = r'[\\d\\u0966-\\u096F]+'\n",
    "\n",
    "    # Hindi and English words\n",
    "    word_pattern = r'[\\u0900-\\u097F]+|[a-zA-Z]+'\n",
    "    \n",
    "    # Hindi + English punctuation, including danda (।)\n",
    "    punc_pattern = r'[।.,!?;:()\\'\"“”‘’—–\\-]'\n",
    "\n",
    "    \n",
    "    # Combine with priority: time first, then emails/URLs\n",
    "    combined_pattern = f'{punc_pattern}|{time_pattern}|{email_pattern}|{url_pattern}|{word_pattern}|{number_pattern}'\n",
    "\n",
    "    for sentence in data:\n",
    "        tokens = re.findall(combined_pattern, sentence)\n",
    "        for char in tokens:\n",
    "            cnt += len(char)\n",
    "\n",
    "    return cnt\n"
   ]
  },
  {
   "cell_type": "code",
   "execution_count": 61,
   "id": "334819cf-e0c0-4b64-8e42-a3c52eab7a84",
   "metadata": {},
   "outputs": [
    {
     "data": {
      "text/plain": [
       "2630"
      ]
     },
     "execution_count": 61,
     "metadata": {},
     "output_type": "execute_result"
    }
   ],
   "source": [
    "character_count(data)"
   ]
  },
  {
   "cell_type": "code",
   "execution_count": 64,
   "id": "10fd2cb0-12e3-4125-bcf4-dd7390099648",
   "metadata": {},
   "outputs": [],
   "source": [
    "def avg_sentence_len(data):\n",
    "    return word_count(data)/sentence_count(data)"
   ]
  },
  {
   "cell_type": "code",
   "execution_count": 65,
   "id": "9c5cfe98-7bcd-4ea7-a357-2b16b3a3f135",
   "metadata": {},
   "outputs": [
    {
     "data": {
      "text/plain": [
       "90.6896551724138"
      ]
     },
     "execution_count": 65,
     "metadata": {},
     "output_type": "execute_result"
    }
   ],
   "source": [
    "avg_len_sentences(data)"
   ]
  },
  {
   "cell_type": "code",
   "execution_count": 75,
   "id": "fc67c9a6-5d31-43dd-868d-8ec0dfaaa3de",
   "metadata": {},
   "outputs": [],
   "source": [
    "def avg_word_len(data):\n",
    "    return character_count(data)/word_count(data)"
   ]
  },
  {
   "cell_type": "code",
   "execution_count": 76,
   "id": "bd3e5b43-e65c-4d8f-9c8a-423fecb43d9e",
   "metadata": {},
   "outputs": [
    {
     "data": {
      "text/plain": [
       "3.9788199697428137"
      ]
     },
     "execution_count": 76,
     "metadata": {},
     "output_type": "execute_result"
    }
   ],
   "source": [
    "avg_word_len(data)"
   ]
  },
  {
   "cell_type": "code",
   "execution_count": 77,
   "id": "5d6b369e-e736-4cad-9a0c-d484c7082512",
   "metadata": {},
   "outputs": [],
   "source": [
    "def TTR_word(data):\n",
    "    uniquecnt = len(set(word_tokenizer(data)))\n",
    "\n",
    "    return uniquecnt/word_count(data)"
   ]
  },
  {
   "cell_type": "code",
   "execution_count": 78,
   "id": "19857e73-50db-4e3a-8652-23277f897d60",
   "metadata": {},
   "outputs": [
    {
     "data": {
      "text/plain": [
       "0.556732223903177"
      ]
     },
     "execution_count": 78,
     "metadata": {},
     "output_type": "execute_result"
    }
   ],
   "source": [
    "TTR_word(data)"
   ]
  },
  {
   "cell_type": "code",
   "execution_count": 13,
   "id": "9dcfeeb1-d4ae-461b-9c53-32e8cd876877",
   "metadata": {},
   "outputs": [],
   "source": [
    "\n",
    "\n",
    "class TextStreamAnalyzer:\n",
    "    def __init__(self, dataset_name=\"ai4bharat/IndicCorpV2\", config=\"indiccorp_v2\", split=\"hin_Deva\"):\n",
    "        self.dataset = load_dataset(dataset_name, config, split=split, streaming=True)\n",
    "\n",
    "    def clean_text_stream(self, max_items=None):\n",
    "        data = []\n",
    "        for i, example in enumerate(self.dataset):\n",
    "            if i % 2 == 1:\n",
    "                continue\n",
    "            data.append(example[\"text\"])\n",
    "            if max_items and i >= max_items:\n",
    "                break\n",
    "        return data\n",
    "\n",
    "    def sentence_tokenizer(self, data):\n",
    "        sentences = []\n",
    "        for d in data:\n",
    "            sentences.extend(re.split(r\"(?<=[.।!?])\\s+\", d))\n",
    "        return sentences\n",
    "\n",
    "    def sentence_count(self, data):\n",
    "        \"\"\"\n",
    "        Counts total number of sentences in the given data.\n",
    "        \"\"\"\n",
    "        count = 0\n",
    "        for d in data:\n",
    "            count += len(re.split(r\"(?<=[.।!?])\\s+\", d))\n",
    "        return count\n",
    "\n",
    "    \n",
    "    def word_tokenizer(self,data):\n",
    "        words = []\n",
    "    \n",
    "        # Define patterns\n",
    "        email_pattern = r'[a-zA-Z0-9._%+-]+@[a-zA-Z0-9.-]+\\.[a-zA-Z]{2,}'\n",
    "        url_pattern = r'https?://[^\\s]+|www\\.[^\\s]+.^\\s{2,}'\n",
    "        time_pattern = r'\\d{1,2}\\.\\d{2}'  # 10.30\n",
    "        year_pattern = r'^(?:०[१-९]|[१२][०-९]|३[०-१])[./-](?:०[१-९]|१[०-२])[./-](?:१९|२०)[०-९]{2}$'\n",
    "        number_pattern = r'[\\d\\u0966-\\u096F]+'\n",
    "    \n",
    "        # Hindi and English words\n",
    "        word_pattern = r'[\\u0900-\\u097F]+|[a-zA-Z]+'\n",
    "        \n",
    "        # Hindi + English punctuation, including danda (।)\n",
    "        punc_pattern = r'[।.,!?;:()\\'\"“”‘’—–\\-]'\n",
    "    \n",
    "        \n",
    "        # Combine with priority: time first, then emails/URLs\n",
    "        combined_pattern = f'{punc_pattern}|{time_pattern}|{email_pattern}|{url_pattern}|{word_pattern}|{number_pattern}|{year_pattern}'\n",
    "    \n",
    "        for sentence in data:\n",
    "            tokens = re.findall(combined_pattern, sentence)\n",
    "            words.extend(tokens)\n",
    "    \n",
    "        return words\n",
    "\n",
    "    \n",
    "\n",
    "    \n",
    "    def word_count(self,data):\n",
    "        cnt = 0\n",
    "    \n",
    "        # Define patterns\n",
    "        email_pattern = r'[a-zA-Z0-9._%+-]+@[a-zA-Z0-9.-]+\\.[a-zA-Z]{2,}'\n",
    "        url_pattern = r'https?://[^\\s]+|www\\.[^\\s]+'\n",
    "        time_pattern = r'\\d{1,2}\\.\\d{2}'  # 10.30\n",
    "        year_pattern = r'^(?:०[१-९]|[१२][०-९]|३[०-१])[./-](?:०[१-९]|१[०-२])[./-](?:१९|२०)[०-९]{2}$'\n",
    "        number_pattern = r'[\\d\\u0966-\\u096F]+'\n",
    "    \n",
    "        # Hindi and English words\n",
    "        word_pattern = r'[\\u0900-\\u097F]+|[a-zA-Z]+'\n",
    "        \n",
    "        # Hindi + English punctuation, including danda (।)\n",
    "        punc_pattern = r'[।.,!?;:()\\'\"“”‘’—–\\-]'\n",
    "    \n",
    "        \n",
    "        # Combine with priority: time first, then emails/URLs\n",
    "        combined_pattern = f'{punc_pattern}|{time_pattern}|{email_pattern}|{url_pattern}|{word_pattern}|{number_pattern}|{year_pattern}'\n",
    "    \n",
    "        for sentence in data:\n",
    "            tokens = re.findall(combined_pattern, sentence)\n",
    "            cnt += len(tokens)\n",
    "\n",
    "        return cnt\n",
    "\n",
    "    \n",
    "    def character_count(self,data):\n",
    "        cnt = 0\n",
    "    \n",
    "        # Define patterns\n",
    "        email_pattern = r'[a-zA-Z0-9._%+-]+@[a-zA-Z0-9.-]+\\.[a-zA-Z]{2,}'\n",
    "        url_pattern = r'https?://[^\\s]+|www\\.[^\\s]+'\n",
    "        time_pattern = r'\\d{1,2}\\.\\d{2}'  # 10.30\n",
    "        number_pattern = r'[\\d\\u0966-\\u096F]+'\n",
    "    \n",
    "        # Hindi and English words\n",
    "        word_pattern = r'[\\u0900-\\u097F]+|[a-zA-Z]+'\n",
    "        \n",
    "        # Hindi + English punctuation, including danda (।)\n",
    "        punc_pattern = r'[।.,!?;:()\\'\"“”‘’—–\\-]'\n",
    "    \n",
    "        \n",
    "        # Combine with priority: time first, then emails/URLs\n",
    "        combined_pattern = f'{punc_pattern}|{time_pattern}|{email_pattern}|{url_pattern}|{word_pattern}|{number_pattern}'\n",
    "    \n",
    "        for sentence in data:\n",
    "            tokens = re.findall(combined_pattern, sentence)\n",
    "            for char in tokens:\n",
    "                cnt += len(char)\n",
    "    \n",
    "        return cnt\n",
    "\n",
    "    def avg_sentence_len(self,data):\n",
    "        return word_count(data)/sentence_count(data)\n",
    "    def avg_word_len(self,data):\n",
    "        return character_count(data)/word_count(data)\n",
    "\n",
    "    def TTR_word(self,data):\n",
    "        uniquecnt = len(set(word_tokenizer(data)))\n",
    "        return uniquecnt/word_count(data)"
   ]
  },
  {
   "cell_type": "code",
   "execution_count": 6,
   "id": "8e02f601-fd83-43a0-9621-057e2af2f99c",
   "metadata": {},
   "outputs": [
    {
     "name": "stdout",
     "output_type": "stream",
     "text": [
      "Total Sentences: 1719\n",
      "Total Words: 33050\n",
      "Total Character: 126990\n"
     ]
    }
   ],
   "source": [
    "analyzer = TextStreamAnalyzer()\n",
    "\n",
    "# Stream and collect first 1000 examples\n",
    "data = analyzer.clean_text_stream(max_items=1000)\n",
    "\n",
    "# Get sentence and word counts\n",
    "sentence_total = analyzer.sentence_count(data)\n",
    "word_total = analyzer.word_count(data)\n",
    "character_count = analyzer.character_count(data)\n",
    "print(f\"Total Sentences: {sentence_total}\")\n",
    "print(f\"Total Words: {word_total}\")\n",
    "print(f\"Total Character: {character_count}\")"
   ]
  },
  {
   "cell_type": "code",
   "execution_count": 7,
   "id": "02ee9630-94fe-43a0-a234-3480a82049ee",
   "metadata": {},
   "outputs": [
    {
     "name": "stdout",
     "output_type": "stream",
     "text": [
      "Total Sentences: 16213\n",
      "Total Words: 303710\n",
      "Total Character: 1170468\n"
     ]
    }
   ],
   "source": [
    "analyzer = TextStreamAnalyzer()\n",
    "\n",
    "# Stream and collect first 10000 examples\n",
    "data = analyzer.clean_text_stream(max_items=10000)\n",
    "\n",
    "# Get sentence and word counts\n",
    "sentence_total = analyzer.sentence_count(data)\n",
    "word_total = analyzer.word_count(data)\n",
    "character_count = analyzer.character_count(data)\n",
    "print(f\"Total Sentences: {sentence_total}\")\n",
    "print(f\"Total Words: {word_total}\")\n",
    "print(f\"Total Character: {character_count}\")"
   ]
  },
  {
   "cell_type": "code",
   "execution_count": 9,
   "id": "e7406906-dd57-4ad8-a397-6e0d0b85be7a",
   "metadata": {},
   "outputs": [
    {
     "name": "stdout",
     "output_type": "stream",
     "text": [
      "Total Sentences: 162745\n",
      "Total Words: 3060771\n",
      "Total Character: 11795225\n"
     ]
    }
   ],
   "source": [
    "analyzer = TextStreamAnalyzer()\n",
    "\n",
    "# Stream and collect first 100000 examples\n",
    "data = analyzer.clean_text_stream(max_items=100000)\n",
    "\n",
    "# Get sentence and word counts\n",
    "sentence_total = analyzer.sentence_count(data)\n",
    "word_total = analyzer.word_count(data)\n",
    "character_count = analyzer.character_count(data)\n",
    "print(f\"Total Sentences: {sentence_total}\")\n",
    "print(f\"Total Words: {word_total}\")\n",
    "print(f\"Total Character: {character_count}\")"
   ]
  },
  {
   "cell_type": "code",
   "execution_count": 10,
   "id": "4b0923f9-b5a5-438a-8b94-882effd90535",
   "metadata": {},
   "outputs": [
    {
     "name": "stdout",
     "output_type": "stream",
     "text": [
      "Total Sentences: 1629119\n",
      "Total Words: 30622155\n",
      "Total Character: 118090265\n"
     ]
    }
   ],
   "source": [
    "analyzer = TextStreamAnalyzer()\n",
    "\n",
    "# Stream and collect first 1000000 examples\n",
    "data = analyzer.clean_text_stream(max_items=1000000)\n",
    "\n",
    "# Get sentence and word counts\n",
    "sentence_total = analyzer.sentence_count(data)\n",
    "word_total = analyzer.word_count(data)\n",
    "character_count = analyzer.character_count(data)\n",
    "print(f\"Total Sentences: {sentence_total}\")\n",
    "print(f\"Total Words: {word_total}\")\n",
    "print(f\"Total Character: {character_count}\")"
   ]
  },
  {
   "cell_type": "markdown",
   "id": "91621cd8-c871-4fff-a64e-4ea946a09f09",
   "metadata": {},
   "source": []
  },
  {
   "attachments": {
    "9a126e5b-0c5c-48de-994a-ec50a32d5e49.png": {
     "image/png": "[encoded data removed]"
    }
   },
   "cell_type": "markdown",
   "id": "26957d2f-6df5-4e5d-9ef5-84eb5a8aea2d",
   "metadata": {},
   "source": [
    "![image.png](attachment:9a126e5b-0c5c-48de-994a-ec50a32d5e49.png)"
   ]
  },
  {
   "cell_type": "code",
   "execution_count": 12,
   "id": "acf363a6-e3b1-4d55-901c-093ef511e0b3",
   "metadata": {},
   "outputs": [
    {
     "name": "stdout",
     "output_type": "stream",
     "text": [
      "लोगों को बिलों संबंधी सुविधा देना ही उनका काम\n",
      "\n",
      "इनेलो 1987 में उस वक्त ऐसे ही दोराहे पर खड़ी थी, जब पूर्व उपप्रधानमंत्री देवीलाल ने अपने पुत्र ओमप्रकाश चौटाला को अपना राजनीतिक उत्तराधिकारी घोषित किया था।\n",
      "\n",
      "हालांकि तब पार्टी पर देवीलाल की मजबूत पकड़ के चलते पार्टी टूटने से बच गई थी।\n",
      "\n",
      "1989 में देवीलाल केन्द्र की राजनीति में सक्रिय हो गए थे और उनके उपप्रधानमंत्री बनने के पश्चात् उनके तीन बेटों जगदीश सिंह, रणजीत सिंह और ओमप्रकाश चौटाला में से रणजीत और ओमप्रकाश के बीच हरियाणा में उनकी राजनीतिक विरासत को लेकर जंग शुरू हो गई थी।\n",
      "\n",
      "उन परिस्थितियों में देवीलाल ने कड़ा निर्णय लेते हुए पार्टी की बागडोर ओमप्रकाश चौटाला के हवाले कर दी थी, जिसके बाद रणजीत की बगावत का असर पार्टी, संगठन और उनकी सरकार पर भी पड़ा था।\n",
      "\n",
      "उस समय रणजीत की नाराजगी के चलते उनके समर्थन में कई कैबिनेट मंत्रियों ने इस्तीफे दे दिए थे किन्तु तब पार्टी सुप्रीमो चौ.\n",
      "\n",
      "देवीलाल की हरियाणा की जनता पर इतनी मजबूत पकड़ थी कि ओमप्रकाश चौटाला को उत्तराधिकारी बनाने के उनके फैसले का जनता के बीच कोई खास विरोध नहीं हुआ था लेकिन आज स्थिति बिल्कुल विपरीत है।\n",
      "\n",
      "ओमप्रकाश चौटाला पिछले काफी समय से जेल में हैं और जेल में रहते पार्टी के साथ-साथ परिवार पर भी उनकी पकड़ काफी ढ़ीली हो गई है, इसी कारण उनमें अब देवीलाल जैसा वो सामर्थ्य नजर नहीं आता कि वे अपने फैसलों को बगैर किसी प्रतिरोध के लागू करा सकें।\n",
      "\n",
      "जहां आई थी तबाही उस घाटी क्षेत्र में खतरा ज्यादा\n",
      "\n",
      "इसके बाद केंद्र की ओर से प्रदेश सरकार को पीएमजीएसवाई में 200 करोड़ रुपये की राशि उपलब्ध करा दी गई।\n",
      "\n",
      "भाजपा के मीडिया प्रभारी दिवाकर सिंह ने शनिवार को बताया कि केंद्र ने प्रदेश सरकार को 200 करोड़ रुपये भेजा है।\n",
      "\n",
      "यह पूछने पर कि इस बड़े मैच से पहले उनकी नींद गायब हुई तो बाबर ने कहा, \"हम काफी टूर्नामेंट खेल चुके हैं, हमने चैम्पियंस ट्राफी में भी अच्छा किया था.\n",
      "\n",
      "हम इसे जितना सरल रखेंगे, उतना ही बेहतर होगा.\n",
      "\n",
      "इसमें सिर्फ बेसिक्स पर अडिग रहना होगा और साथ ही शांत चित्त बने रहना होगा.\n",
      "\n",
      "हमारी तैयारी हमारे हाथों में हैं और हमने अपना शत प्रतिशत दिया है.\n",
      "\n",
      "हमें मैच के दिन अच्छी क्रिकेट खेलने की उम्मीद है.\"\n",
      "\n",
      "समाचार एजेंसी 'डीपीए' के अनुसार, उप गृह मंत्री पैट्रीकियो रोसेंडे ने कहा कि 76 लोगों के मरने की पुष्टि हो चुकी है।\n",
      "\n",
      "पिछले कई सालों से हमने इतना बड़ा हादसा नहीं देखा।\n",
      "\n",
      "प्रियंका माहेश्वरी ने किया है एमबीए\n",
      "\n",
      "बुधवार सुबह 10.30 बजे बड़ी संख्या में एबीवीपी के छात्र नेता कॉलेज के छात्रों को लेकर कलेक्टोरेट पहुंचे और जमकर नारेबाजी करने लगे।\n",
      "\n",
      "छात्र कलेक्टर से बात करने के लिए अड़े रहे, लेकिन कलेक्टर ने चेंबर में प्रतिनिधि मंडल से मुलाकात कर चर्चा करने की बात कही।\n",
      "\n",
      "इस बात से छात्र भड़क गए और जिला प्रशासन मुर्दाबाद के नारे लगाने लगे।\n",
      "\n",
      "मौके पर पहुंचे एसडीएम ने छात्रों को समझाने की कोशिश की, लेकिन छात्र मानने को तैयार नहीं थे।\n",
      "\n",
      "करीब दो घंटे तक कलेक्टोरेट के गेट पर धरने पर बैठे छात्रों ने आखिरकार प्रतिनिधिमंडल के रूप में जाकर कलेक्टर धनंजय देवांगन से मिलकर अपनी समस्याओं से अवगत कराया।\n",
      "\n",
      "बता दें कि ये फोटो ड्रग्स पैडलर द्वारा सैंपल के तौर पर बॉलीवुड के सेलिब्रिटीज और सोशलाइट्स को मोबाइल पर भेजे जाते थे, ताकि क्वालिटी का सबूत दिया जा सके.\n",
      "\n",
      "विक्टोरिया: प्रधानमंत्री नरेंद्र मोदी ने आज कहा कि सेशेल्स जैसे द्वीप देशों के लिए जलवायु परिवर्तन उतना ही गंभीर खतरा है जितना कि दुनिया के सामने आतंकवाद का है.\n",
      "\n",
      "इसके साथ ही उन्होंने जलवायु परिवर्तन का मुकाबला करने के लिए भारत की गहरी प्रतिबद्धता व्यक्त की है.\n",
      "\n",
      "चीनी रक्षा मंत्रालय ने एक बयान जारी करके इसकी जानकारी दी।\n",
      "\n",
      "अमेरिकी सर्वे शिप द्वारा दक्षिण चीन सागर में संचालित यह ड्रोन चीनी नेवी ने जब्त कर लिया था और कथित तौर पर उसे लौटाने से भी इंकार कर दिया था।\n",
      "\n",
      "हरदोई: डीएम का नया आदेश, ADM से SDM तक आंखों के सामने कराएंगे सफाई, फोटो भेजना भी जरूरी\n",
      "\n",
      "आईआईएम अहमदाबाद के साथ एमओयू करने की तैयारी में सरकार\n",
      "\n",
      "सहकारी बैंक घोटाले की जांच में शरद पवार के सहयोग करने की बात कहने सहित आज के बड़े समाचार\n",
      "\n",
      "लैब से वायरस लीक होने के कई ऐसे मामले हैं जिनकी बाक़ायदा पुष्टि हो चुकी है.\n",
      "\n",
      "उसका चेक नंबर 36 दर्शाया जा रहा है।\n",
      "\n",
      "व्यापारी ने बताया कि हमारे खाते में इस क्रमांक की कोई भी चेक जारी नहीं हुई हैद्ध यह किसी ने फर्जी तरीके से हमारे अकाउंट से चेक के माध्यम से पैसे निकाल कर अपने अकाउंट में जमा किए हैं।\n",
      "\n",
      "जिसकी सूचना व्यापारी ने बैंक ऑफ बड़ौदा शाखा प्रबंधक मैगलगंज को दी है।\n",
      "\n",
      "बैंक ऑफ बड़ौदा के शाखा प्रबंधक नीरज त्रिपाठी से बात की गई उन्होंने बताया सीतापुर की शाखा से चेक  से पैसा ट्रांसफर हुआ है प्रथम दृष्टया गलती प्रतीत हो रही है जिसे बात करके भुगतान वापस कराया जाएगा।\n",
      "\n",
      "यह मामला है देश की राजधानी का।\n",
      "\n",
      "दिल्‍ली के करोलबाग की कंपनी ने लोगों से वादा किया कि आपके INVEST किए पैसे एक साल में डबल कर दिए जाएंगे।\n",
      "\n",
      "लालच में लोगों ने उस कंपनी में जमकर पैसे लगा दिए।\n",
      "\n",
      "लोगों को इस झूठ में फंसाने के लिए कंपनी ने एक वेबसाइट भी तैयार करवाई।\n",
      "\n",
      "कंपनी पर PACIFIC ROYAL AIRLINES के नाम पर धन इकट्ठा कर गबन करने का आरोप है।\n",
      "\n",
      "दोहरे रिटर्न की आस में लोगों ने दस हजार करोड़ रुपये लगा दिए।\n",
      "\n",
      "टूर्नामेंट में अबतक खामोश ही रहे भारतीय विश्व कप टीम में शामिल कार्तिक ने 50 गेंद में नाबाद 97 रन बनाए, जिसकी बदौलत कोलकाता तीन विकेट पर 49 रन से उबरते हुए 176 रन जोड़ पाया, लेकिन 17 वर्षीय युवा रियान पराग ने 47 ओर जोफ्रा आर्चर ने नाबाद 27 रन बनाकर कोलकाता से जीत छीन ली।\n",
      "\n",
      "मोदीपुरम।\n",
      "\n",
      "बीते दो दिनो में मेरठ में एयर क्वालिटी इंडेक्स (एक्यूआई) का स्तर भले ही घटा है, इसके बावजूद यह सामान्य से बहुत अधिक है।\n",
      "\n",
      "जनता की सेहत के लिए यह अभी भी खतरनाक है।\n",
      "\n",
      "चिकित्सकों के अनुसार, प्रदूषण का यह स्तर टीबी व अस्थमा के मरीजों के लिए जानलेवा है।\n",
      "\n",
      "टिगुआन की प्रोफाइल को साधारण लाइनों और क्रीज द्वारा चिह्नित जा किया सकता है, जो फॉक्सवैगन की क्लासिक डिज़ाइन थीम को बनाए रखती है।\n",
      "\n",
      "मैट्रिक्स एलईडी नवीन फिटमेंट हैं, जो रात के वक़्त प्रभावी होने चाहिए।\n",
      "\n",
      "नया VW लोगो और फ्रंट री-टच टिगुआन के चेहरे को साफ रखते हैं।\n",
      "\n",
      "- इसमें जोड़ सूज भी सकते हैं,लाल भी हो सकते हैं और बुखार भी आ सकता है।\n",
      "\n",
      "माल गाड़ियों को उनके लिये अलग से बनाये जा रहे गलियारे में स्थानांरित किये जाने से यह संभव हो सकता है।\n",
      "\n",
      "इस पर काम जारी है और व्यस्त मार्ग दिल्ली-हावड़ा और दिल्ली-मुंबई मार्गों को ट्रेनों की गति बढ़ाने के लिये उन्नत बनाया जा रहा है।\n",
      "\n",
      "राजस्थान में श्रीगंगानगर जिले के हिंदुमलकोट बॉर्डर इलाके में सीमा पार से सुबह करीब 6 बजे पाकिस्तानी की ओर से फायरिंग की सूचना मिली है.\n",
      "\n",
      "इस फायरिंग के बाद एक पाकिस्तानी टोही विमान के देखे जाने की भी बात सामने आई.\n",
      "\n",
      "बता दें कि पश्चिमी राजस्थान में भारत-पाक अंतरराष्ट्रीय बॉर्डर पर पाकिस्तान अपनी हरकतों से\n",
      "\n",
      "नेहरू जूलॉजिकल पार्क में मुकेश शेर के बाड़े में कूद गया.\n",
      "\n",
      "35 वर्षीय मुकेश को शराब के नशे में बताया गया.\n",
      "\n",
      "जिस बाड़े में कूदा था उसमें अफ्रीकन शेरनी राधिका और शेर कृष्णा रहते हैं.\n",
      "\n",
      "वीडियो देखने के लिए  ...और अगली स्लाइड में पढ़ें, शेरनी को चूमना या शेर से हाथ मिलाना चाहता था युवक?\n",
      "\n",
      "मछोदरी के रहने वाले रमेश कुमार विश्वकर्मा को चांदी की गुलाबी मीनाकारी की कारीगरी से वह रथ बनाने पर राष्ट्रीय पुरस्कार के लिए चयन किया गया है जिसपर श्रीकृष्ण व अर्जुन विराजमान है।\n",
      "\n",
      "रमेश के साथ ही देशभर के 40 हस्तशिल्पियों को राष्ट्रीय पुरस्कार के लिए चयनित किया गया है।\n",
      "\n",
      "ROORKEE (JNN) : तहसील प्रशासन ने बारिश और ओलावृष्टि से प्रभावित किसानों के चेक काटने बंद कर दिए हैं।\n",
      "\n",
      "वजह यह है कि 20 लाख के बजट में से 16 लाख के चेक काटे जा चुके हैं, जबकि और चेक काटने के लिए पर्याप्त बजट ही नहीं हैं।\n",
      "\n",
      "गौरतलब है कि वर्मा पूर्व राज्यसभा सदस्य हैं।\n",
      "\n",
      "इससे पहले वह ‘ द ग्रेट इंडियन मिडिल क्लास’, ‘ बीइंग इंडियन’, ‘ आदि शंकराचार्य : हिंदुज्म ग्रेटेस्ट थिंकर आदि किताबों की रचना कर चुके हैं।\n",
      "\n",
      "इस समय वह सिम्बायोसिस इंटरनेशनल यूनिवर्सिटी के प्रतिष्ठित प्राध्यापक हैं।\n",
      "\n",
      "बॉलीवुड अभिनेत्री करीना कपूर खान शुक्रवार को बांद्रा में अपने बेटे तैमूर अली खान के साथ नजर आईं।\n",
      "\n",
      "प्रेस विज्ञप्ति में हॉकी इंडिया के कार्यवाहक अध्यक्ष ज्ञानेंद्रो निंगोमबाम के हवाले से कहा गया, ‘‘कोविड-19 के साथ मौजूदा लड़ाई का उन खिलाड़ियों पर प्रतिकूल असर पड़ा है जिनके पास नौकरी नहीं है, उनके लिए खेल गतिविधियां शुरू कर पाना मुश्किल है क्योंकि उनका परिवार वित्तीय संकट का सामना कर रहा है।’’\n",
      "\n",
      "आईएईए ने इस बात को लेकर ईरान की आलोचना की थी कि वह गोपनीय ढंग से रखी गई परमाणु सामग्री और इससे जुड़ी गतिविधियों को लेकर सवालों के जवाब नहीं दे रहा और दो ठिकानों की जांच की अनुमति नहीं दे रहा।\n",
      "\n",
      "स्वास्तिक शास्त्रों के अनुसार बहुत ही महत्वपूर्ण माना जाता है।\n",
      "\n",
      "इसलिये जब भी आप स्वास्तिक बनाये तो उस जगह पर स्वच्छ व शुद्ध स्थान का ही चुनाव करें।\n",
      "\n",
      "क्योंकि अशुद्ध स्थान जैसे शौचालय या फिर किसी गंदगी वाले स्थान पर स्वास्तिक बनाने से आपकी बुद्धि और विवेक भ्रष्ट हो सकता है।\n",
      "\n",
      "अशुद्ध जगहों पर स्वास्तिक बनाना निषेध माना जाता है।\n",
      "\n",
      "Home » रविवारीय » जाति व्यवस्था की दशा, दिशा और हमारे कार्यभार\n",
      "\n",
      "जिला कोर्ट में न्यायाधीश रेखा आर.\n",
      "\n",
      "चंद्रवंशी की कोर्ट में राधिका नगर निवासी सूरज बाई (55) ने बहू नेहा के खिलाफ वकील कृष्ण कुमार कुन्हारे व वकील काशू महंत के माध्यम से परिवाद दायर किया था.\n",
      "\n",
      "वकील कुन्हारे के मुताबिक सूरज बाई के बेटे दीपक की शादी नेहा से हुई थी.\n",
      "\n",
      "शादी के चार साल तक बहू नेहा ससुराल ही नहीं आई.\n",
      "\n",
      "दीपक और अन्य परिजन बड़ी मुश्किल से समझाकर उसे घर लेकर आए.\n",
      "\n",
      "पाकिस्तान में आम लोगों और राजनेताओं की इस सोच से विश्लेषक सहमत दिखाई नहीं देते.\n",
      "\n",
      "सबसे चकित करने वाली बात है, सरकार द्वारा डीजल कीमतों में नियमित बढ़ोतरी के फैसले पर पुनर्विचार करने संबंधी खबरें।\n",
      "\n",
      "सरकार ने बहुत पहले यह फैसला किया था कि सब्सिडी वाले डीजल की कीमत में हर माह 50 पैसे प्रति लीटर की बढ़ोतरी की जाएगी ताकि लागत और पेट्रोल पम्प पर उसकी कीमत के अंतर को कम किया जा सके।\n",
      "\n",
      "सरकार को इसकी समीक्षा निर्वाचन आयोग से करवाने अथवा कीमतों को नियंत्रणमुक्त करने के अपने ही पुराने फैसले को मंत्रिमंडल के समक्ष दोबारा ले जाने की कोई आवश्यकता नहीं है।\n",
      "\n",
      "निर्वाचन आयोग को भी पेट्रोलियम एवं प्राकृतिक गैस मंत्रालय से मिलने वाले ऐसे किसी अनुरोध से जुड़े फैसले पर देर नहीं करनी चाहिए।\n",
      "\n",
      "- जयराम, थाना प्रभारी, हसनपुर\n",
      "\n",
      "नदी नालों कि की जा रहीं है जिओ टैगिंग\n",
      "\n",
      "हम इस क्षेत्र में अपनी क्षमताएं बढ़ाना चाहते हैं।\n",
      "\n",
      "हालांकि, यहां हम किसी अपने दुश्मन या प्रतिद्वंदी के रूप किसी खास देश या को नहीं देख रहे हैं।\n",
      "\n",
      "मिग-27 और हॉक स्क्वेड्रन्स के अलावा राफेल की डील के बाद पूर्वी एयर कमांड में हमारी क्षमता बढ़ेगी।’\n",
      "\n",
      "कोविड-19 संक्रमण के बीच तापमान ने भी परेशान कर दिया है।\n",
      "\n",
      "मंगलवार को हवा में नमी कम और पारा अधिक होने से दिनभर गर्म हवाओं ने सताया।\n",
      "\n",
      "अधिकतम तापमान सामान्य से तीन डिग्री सेल्सियस अधिक रिकार्ड किया गया।\n",
      "\n",
      "उन्होंने दावा किया कि रजस्वला लड़कियों और महिलाओं पर लगी बंदिशें केरल के जंगलों में रहने वाले आदिवासी समाजों के रीति-रिवाज का हिस्सा हैं।\n",
      "\n",
      "आदिवासियों ने यह भी कहा कि सबरीमाला मंदिर और इससे जुड़ी जगहों पर जनजातीय समुदायों के कई अधिकार सरकारी अधिकारियों और मंदिर का प्रबंधन करने वाले टीडीबी के अधिकारियों द्वारा छीने जा रहे हैं।\n",
      "\n",
      "45 सीट जीत पाएंगे?\n",
      "\n",
      "हाउसफुल 3 'हाउसफुल' सीरिज की सबसे कमजोर फिल्म है।\n",
      "\n",
      "हंसने के लिए इससे बेहतर कई विकल्प मौजूद हैं।\n",
      "\n",
      "आप को अनेक क्षेत्र में लाभ और यश प्राप्त होगा.\n",
      "\n",
      "धन प्राप्ति के लिए योग अच्छा है.\n",
      "\n",
      "मित्रों के पीछे धन खर्च होगा.\n",
      "\n",
      "परिजनों या दोस्तों के साथ बाहर घूमने जाने का अवसर मिलेगा.\n",
      "\n",
      "दोस्तों के बाद आप को शारीरिक और मानसिक अस्वस्थता का अनुभव करना पड़ेगा.\n",
      "\n",
      "किसी के साथ इगो ना रखें, अन्यथा नुकसान आपका ही होगा.\n",
      "\n",
      "बुकी श्याम वोहरा की संपत्ति की कुर्की करने की तैयारी, आगरा पुलिस ने नोटिस किया चस्‍पा\n",
      "\n",
      "अशोकनगर(नवदुनिया न्यूज)।\n",
      "\n",
      "मध्य प्रदेश डिप्लोमा एसोसिएशन दो सूत्रों मांग को लेकर संभाग स्तर पर कमिश्नर के द्वारा मुख्यमंत्री एवं एडिशनल चीफ सेक्रेटरी(छभझ) को ज्ञापन देंगे जिसमें जो अभियंता 28 साल अपने सेवाकाल में पूर्ण कर चुके हैं उन्हें सहायक यंत्री का पद नाम एवं 2006 के बाद के जो संविदाकर्मी इंजीनियर हैं उन्हें स्थाईकर्मी बनाने ज्ञापन दिया जाए\n",
      "\n",
      "संदीप 10 किमी के बाद 12वें, 14 किमी के बाद 19वें और 16 किमी के बाद 23वें स्थान पर खिसक गए।\n",
      "\n",
      "संदीप ने एक घंटा 25 मिनट और सात सेकेंड का समय लिया।\n",
      "\n",
      "राहुल ने एक घंटा 32 मिनट और छह सेकेंड में रेस पूरी की।\n",
      "\n",
      "इरफान ने बेहद निराश किया और वह एक मिनट 34 मिनट और 41 सेकेंड का सत्र का सर्वश्रेष्ठ प्रदर्शन करने के बावजूद स्पर्धा पूरी करने वाले 52 एथलीटों में 51वें स्थान पर रहे।\n",
      "\n",
      "इन पदों के लिए आवेदन की प्रक्रिया 5 दिसंबर से शुरू हो गई है।\n",
      "\n",
      "व्यापार मंडल ने किया विरोध का ऐलान\n",
      "\n",
      "उसने कहा ,‘‘ मैं चाहती हूं कि एक नौकरी मिल जाये ।\n",
      "\n",
      "गार्ड की ही सही ।\n",
      "\n",
      "मैं योग सिखाकर अपना खर्च चलाती हूं और फिजियोथेरेपी के लिये भी लोगों की मदद करती हूं ।\n",
      "\n",
      "मैने खुद से यह सीखा है ।लेकिन कब तक मेरे भाई मेरा खर्च चलायेंगे ।मुझे एक नौकरी की सख्त जरूरत है ।’’ उसे प्रोटीन वाला भोजन या सूखे मेवे भी मयस्सर नहीं है ।\n",
      "\n",
      "सब्जी और भात पर गुजारा होता है जिससे शरीर में कैल्शियम और हीमोग्लोबिन की कमी हो गई है।\n",
      "\n",
      "अपने जुनून के दम पर वह ताकत के इस खेल में बनी हुई है ।\n",
      "\n",
      "पलसदरी को इसकी प्राकृतिक सुंदरता और कठिन रास्तों के लिए जाना जाता है।\n",
      "\n",
      "पहाड़ों पर पैदल यात्रा, पर्यटकों में विशेष रूप से लोकप्रिय है।\n",
      "\n",
      "लेकिन पर्यटकों को इन यात्राओं के दौरान यहाँ की कंटीली झाड़ियों से सावधान रहना चाहिए।\n",
      "\n",
      "यह कंटीली झाड़ियां किसी लापरवाह पथिक के लिए खतरनाक साबित हो सकती हैं।\n",
      "\n",
      "पलसदरी में कई स्थान निजी स्वामित्व में हैं और इनसे होकर गुजरना अवैध है।\n",
      "\n",
      "बीएसए राजेंद्र सिंह ने बताया कि नियम के तहत किसी भी एआरपी, केआरजी, एसआरजी और शिक्षकों से खंड शिक्षा अधिकारी काम नहीं ले सकते।\n",
      "\n",
      "ऐसी शिकायत मिल रही है कि कुछ बीईओ ऐसे लोगों से काम ले रहे हैं।\n",
      "\n",
      "जिन्हें कारण बताओ नोटिस दी गई है।\n",
      "\n"
     ]
    }
   ],
   "source": [
    "analyzer = TextStreamAnalyzer()\n",
    "\n",
    "# Stream and collect first 100 examples\n",
    "data = analyzer.clean_text_stream(max_items=100)\n",
    "\n",
    "# Get sentence and word counts\n",
    "sentence_total = analyzer.sentence_tokenizer(data)\n",
    "\n",
    "for sen in sentence_total:\n",
    "    print(sen)\n",
    "    print()"
   ]
  },
  {
   "cell_type": "code",
   "execution_count": null,
   "id": "c29cfd9f-0bd6-40ac-83bc-3842a760b66e",
   "metadata": {},
   "outputs": [],
   "source": []
  },
  {
   "cell_type": "code",
   "execution_count": null,
   "id": "b0a424af-bb38-435c-867d-0c3319bad695",
   "metadata": {},
   "outputs": [],
   "source": []
  }
 ],
 "metadata": {
  "kernelspec": {
   "display_name": "Python [conda env:base] *",
   "language": "python",
   "name": "conda-base-py"
  },
  "language_info": {
   "codemirror_mode": {
    "name": "ipython",
    "version": 3
   },
   "file_extension": ".py",
   "mimetype": "text/x-python",
   "name": "python",
   "nbconvert_exporter": "python",
   "pygments_lexer": "ipython3",
   "version": "3.12.7"
  }
 },
 "nbformat": 4,
 "nbformat_minor": 5
}
